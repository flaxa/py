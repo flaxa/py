{
 "cells": [
  {
   "cell_type": "code",
   "execution_count": 10,
   "id": "b36936f5",
   "metadata": {},
   "outputs": [],
   "source": [
    "import math\n",
    "import numpy as np\n",
    "import pandas as pd"
   ]
  },
  {
   "cell_type": "code",
   "execution_count": 11,
   "id": "cc4b4d8d",
   "metadata": {},
   "outputs": [
    {
     "data": {
      "text/html": [
       "<div>\n",
       "<style scoped>\n",
       "    .dataframe tbody tr th:only-of-type {\n",
       "        vertical-align: middle;\n",
       "    }\n",
       "\n",
       "    .dataframe tbody tr th {\n",
       "        vertical-align: top;\n",
       "    }\n",
       "\n",
       "    .dataframe thead th {\n",
       "        text-align: right;\n",
       "    }\n",
       "</style>\n",
       "<table border=\"1\" class=\"dataframe\">\n",
       "  <thead>\n",
       "    <tr style=\"text-align: right;\">\n",
       "      <th></th>\n",
       "      <th>name</th>\n",
       "      <th>math</th>\n",
       "      <th>cs</th>\n",
       "    </tr>\n",
       "  </thead>\n",
       "  <tbody>\n",
       "    <tr>\n",
       "      <th>0</th>\n",
       "      <td>david</td>\n",
       "      <td>92</td>\n",
       "      <td>98</td>\n",
       "    </tr>\n",
       "    <tr>\n",
       "      <th>1</th>\n",
       "      <td>laura</td>\n",
       "      <td>56</td>\n",
       "      <td>68</td>\n",
       "    </tr>\n",
       "    <tr>\n",
       "      <th>2</th>\n",
       "      <td>sanjay</td>\n",
       "      <td>88</td>\n",
       "      <td>81</td>\n",
       "    </tr>\n",
       "    <tr>\n",
       "      <th>3</th>\n",
       "      <td>wei</td>\n",
       "      <td>70</td>\n",
       "      <td>80</td>\n",
       "    </tr>\n",
       "    <tr>\n",
       "      <th>4</th>\n",
       "      <td>jeff</td>\n",
       "      <td>80</td>\n",
       "      <td>83</td>\n",
       "    </tr>\n",
       "    <tr>\n",
       "      <th>5</th>\n",
       "      <td>aamir</td>\n",
       "      <td>49</td>\n",
       "      <td>52</td>\n",
       "    </tr>\n",
       "    <tr>\n",
       "      <th>6</th>\n",
       "      <td>venkat</td>\n",
       "      <td>65</td>\n",
       "      <td>66</td>\n",
       "    </tr>\n",
       "    <tr>\n",
       "      <th>7</th>\n",
       "      <td>virat</td>\n",
       "      <td>35</td>\n",
       "      <td>30</td>\n",
       "    </tr>\n",
       "    <tr>\n",
       "      <th>8</th>\n",
       "      <td>arthur</td>\n",
       "      <td>66</td>\n",
       "      <td>68</td>\n",
       "    </tr>\n",
       "    <tr>\n",
       "      <th>9</th>\n",
       "      <td>paul</td>\n",
       "      <td>67</td>\n",
       "      <td>73</td>\n",
       "    </tr>\n",
       "  </tbody>\n",
       "</table>\n",
       "</div>"
      ],
      "text/plain": [
       "     name  math  cs\n",
       "0   david    92  98\n",
       "1   laura    56  68\n",
       "2  sanjay    88  81\n",
       "3     wei    70  80\n",
       "4    jeff    80  83\n",
       "5   aamir    49  52\n",
       "6  venkat    65  66\n",
       "7   virat    35  30\n",
       "8  arthur    66  68\n",
       "9    paul    67  73"
      ]
     },
     "execution_count": 11,
     "metadata": {},
     "output_type": "execute_result"
    }
   ],
   "source": [
    "df = pd.read_csv(\"test_scores.csv\")\n",
    "df"
   ]
  },
  {
   "cell_type": "code",
   "execution_count": 12,
   "id": "5bcc1b2f",
   "metadata": {},
   "outputs": [],
   "source": [
    "x = np.array(df.math)\n",
    "y = np.array(df.cs)"
   ]
  },
  {
   "cell_type": "code",
   "execution_count": 13,
   "id": "f2d895ae",
   "metadata": {},
   "outputs": [
    {
     "data": {
      "text/plain": [
       "array([92, 56, 88, 70, 80, 49, 65, 35, 66, 67])"
      ]
     },
     "execution_count": 13,
     "metadata": {},
     "output_type": "execute_result"
    }
   ],
   "source": [
    "x"
   ]
  },
  {
   "cell_type": "code",
   "execution_count": 14,
   "id": "2fc2ad05",
   "metadata": {},
   "outputs": [
    {
     "data": {
      "text/plain": [
       "array([98, 68, 81, 80, 83, 52, 66, 30, 68, 73])"
      ]
     },
     "execution_count": 14,
     "metadata": {},
     "output_type": "execute_result"
    }
   ],
   "source": [
    "y"
   ]
  },
  {
   "cell_type": "code",
   "execution_count": 37,
   "id": "0729855f",
   "metadata": {},
   "outputs": [],
   "source": [
    "def gradientDescent(x,y, learningRate):\n",
    "    m = b = 0\n",
    "    i = 1\n",
    "    n = len(x)\n",
    "    yPredicted = m * x + b\n",
    "    prevCost = (1/n)*sum([val**2 for val in (y-yPredicted)])\n",
    "    mDer = -(2/n)*sum(x*(y-yPredicted))\n",
    "    bDer = -(2/n)*sum((y-yPredicted))\n",
    "    m = m - learningRate * mDer\n",
    "    b = b - learningRate * bDer\n",
    "    #print(f\"m = {m}, b = {b}, iteration = {i}, cost = {prevCost}\")\n",
    "    \n",
    "    \n",
    "    \n",
    "    yPredicted = m * x + b\n",
    "    cost = (1/n)*sum([val**2 for val in (y-yPredicted)])\n",
    "    mDer = -(2/n)*sum(x*(y-yPredicted))\n",
    "    bDer = -(2/n)*sum((y-yPredicted))\n",
    "    m = m - learningRate * mDer\n",
    "    b = b - learningRate * bDer\n",
    "    \n",
    "    \n",
    "    \n",
    "    #print(f\"m = {m}, b = {b}, iteration = {i}, cost = {cost}\")\n",
    "    while(not(math.isclose(prevCost,cost,rel_tol=1e-20))):\n",
    "        yPredicted = m * x + b\n",
    "        prevCost = cost\n",
    "        cost = (1/n)*sum([val**2 for val in (y-yPredicted)])\n",
    "        mDer = -(2/n)*sum(x*(y-yPredicted))\n",
    "        bDer = -(2/n)*sum((y-yPredicted))\n",
    "        m = m - learningRate * mDer\n",
    "        b = b - learningRate * bDer\n",
    "        i+=1\n",
    "        \n",
    "    print(f\"m = {m}, b = {b}, iteration = {i}, cost = {cost}\")\n",
    "        "
   ]
  },
  {
   "cell_type": "code",
   "execution_count": 41,
   "id": "d632acda",
   "metadata": {},
   "outputs": [
    {
     "name": "stdout",
     "output_type": "stream",
     "text": [
      "m = 1.0177392018821385, b = 1.9150092583843652, iteration = 793646, cost = 31.604511336062526\n"
     ]
    }
   ],
   "source": [
    "gradientDescent(x,y,0.0001)"
   ]
  },
  {
   "cell_type": "code",
   "execution_count": null,
   "id": "8ce670fc",
   "metadata": {},
   "outputs": [],
   "source": [
    "#m = 1.0444490635018007, b = 0.014950923273574925, iteration = 975540, cost = 31.81185409244676"
   ]
  },
  {
   "cell_type": "code",
   "execution_count": 42,
   "id": "3b039fbe",
   "metadata": {},
   "outputs": [],
   "source": [
    "from sklearn.linear_model import LinearRegression"
   ]
  },
  {
   "cell_type": "code",
   "execution_count": 48,
   "id": "4cbc77af",
   "metadata": {},
   "outputs": [],
   "source": [
    "reg = LinearRegression()\n",
    "x = np.reshape(x, (-1, 1))\n",
    "y = np.reshape(y, (-1, 1))"
   ]
  },
  {
   "cell_type": "code",
   "execution_count": 49,
   "id": "d273142d",
   "metadata": {},
   "outputs": [
    {
     "data": {
      "text/plain": [
       "LinearRegression()"
      ]
     },
     "execution_count": 49,
     "metadata": {},
     "output_type": "execute_result"
    }
   ],
   "source": [
    "reg.fit(x,y)"
   ]
  },
  {
   "cell_type": "code",
   "execution_count": 50,
   "id": "ffd48efe",
   "metadata": {},
   "outputs": [
    {
     "data": {
      "text/plain": [
       "array([[1.01773624]])"
      ]
     },
     "execution_count": 50,
     "metadata": {},
     "output_type": "execute_result"
    }
   ],
   "source": [
    "reg.coef_"
   ]
  },
  {
   "cell_type": "code",
   "execution_count": 51,
   "id": "cec83155",
   "metadata": {},
   "outputs": [
    {
     "data": {
      "text/plain": [
       "array([1.91521931])"
      ]
     },
     "execution_count": 51,
     "metadata": {},
     "output_type": "execute_result"
    }
   ],
   "source": [
    "reg.intercept_"
   ]
  },
  {
   "cell_type": "code",
   "execution_count": null,
   "id": "a083ce42",
   "metadata": {},
   "outputs": [],
   "source": []
  }
 ],
 "metadata": {
  "kernelspec": {
   "display_name": "Python 3 (ipykernel)",
   "language": "python",
   "name": "python3"
  },
  "language_info": {
   "codemirror_mode": {
    "name": "ipython",
    "version": 3
   },
   "file_extension": ".py",
   "mimetype": "text/x-python",
   "name": "python",
   "nbconvert_exporter": "python",
   "pygments_lexer": "ipython3",
   "version": "3.8.10"
  }
 },
 "nbformat": 4,
 "nbformat_minor": 5
}
